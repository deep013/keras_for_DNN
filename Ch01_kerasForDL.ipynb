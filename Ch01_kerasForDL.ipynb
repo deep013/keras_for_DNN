{
  "nbformat": 4,
  "nbformat_minor": 0,
  "metadata": {
    "colab": {
      "name": "Ch01_kerasForDL.ipynb",
      "provenance": [],
      "collapsed_sections": [],
      "authorship_tag": "ABX9TyNNZy813rwPwHxlyH8u2u0o",
      "include_colab_link": true
    },
    "kernelspec": {
      "name": "python3",
      "display_name": "Python 3"
    },
    "language_info": {
      "name": "python"
    }
  },
  "cells": [
    {
      "cell_type": "markdown",
      "metadata": {
        "id": "view-in-github",
        "colab_type": "text"
      },
      "source": [
        "<a href=\"https://colab.research.google.com/github/deep013/keras_for_DNN/blob/main/Ch01_kerasForDL.ipynb\" target=\"_parent\"><img src=\"https://colab.research.google.com/assets/colab-badge.svg\" alt=\"Open In Colab\"/></a>"
      ]
    },
    {
      "cell_type": "markdown",
      "metadata": {
        "id": "xGoUNhK1cMia"
      },
      "source": [
        "**01 Import the Required Package**"
      ]
    },
    {
      "cell_type": "code",
      "metadata": {
        "id": "V9LhH76eZHbH"
      },
      "source": [
        "from keras.models import Sequential\n",
        "from keras.layers import Dense\n",
        "import numpy as np"
      ],
      "execution_count": null,
      "outputs": []
    },
    {
      "cell_type": "markdown",
      "metadata": {
        "id": "YLi42y4rdN2O"
      },
      "source": [
        "**02 Getting the data ready**"
      ]
    },
    {
      "cell_type": "markdown",
      "metadata": {
        "id": "bzQJWdqsdWKu"
      },
      "source": [
        "Generate train dummy data for 1000 Students and dummy test for 500"
      ]
    },
    {
      "cell_type": "markdown",
      "metadata": {
        "id": "nFJBN08zfllj"
      },
      "source": [
        "Columns: Age, Hours of Study & Avg Previous test scores"
      ]
    },
    {
      "cell_type": "code",
      "metadata": {
        "id": "lQeQ89x4f1yo"
      },
      "source": [
        "np.random.seed(2018)\n",
        "train_data, test_data = np.random.random((1000,3)), np.random.random((500,3))\n",
        "\n",
        "labels = np.random.randint(2, size=(1000, 1))\n"
      ],
      "execution_count": null,
      "outputs": []
    },
    {
      "cell_type": "code",
      "metadata": {
        "colab": {
          "base_uri": "https://localhost:8080/"
        },
        "id": "oowsvNHJyOZs",
        "outputId": "087b3c24-7ac2-4ee9-f0a7-aa2808bb78ee"
      },
      "source": [
        "labels.shape"
      ],
      "execution_count": null,
      "outputs": [
        {
          "output_type": "execute_result",
          "data": {
            "text/plain": [
              "(1000, 1)"
            ]
          },
          "metadata": {
            "tags": []
          },
          "execution_count": 22
        }
      ]
    },
    {
      "cell_type": "markdown",
      "metadata": {
        "id": "h945Xka8vYpP"
      },
      "source": [
        "**03 Defining the Model structure**"
      ]
    },
    {
      "cell_type": "code",
      "metadata": {
        "id": "hZcZ4_bhuntz"
      },
      "source": [
        "model = Sequential()\n",
        "model.add(Dense(5,input_dim=3, activation='relu'))\n",
        "model.add(Dense(4,activation='relu'))\n",
        "model.add(Dense(1,activation='sigmoid'))\n",
        "model.compile(loss='binary_crossentropy', optimizer='adam', metrics=['accuracy'])"
      ],
      "execution_count": null,
      "outputs": []
    },
    {
      "cell_type": "code",
      "metadata": {
        "colab": {
          "base_uri": "https://localhost:8080/"
        },
        "id": "4adrd7OCyTw5",
        "outputId": "6d5513b0-7674-49bd-dc4a-a53af2057618"
      },
      "source": [
        "model.summary()"
      ],
      "execution_count": null,
      "outputs": [
        {
          "output_type": "stream",
          "text": [
            "Model: \"sequential_2\"\n",
            "_________________________________________________________________\n",
            "Layer (type)                 Output Shape              Param #   \n",
            "=================================================================\n",
            "dense_6 (Dense)              (None, 5)                 20        \n",
            "_________________________________________________________________\n",
            "dense_7 (Dense)              (None, 4)                 24        \n",
            "_________________________________________________________________\n",
            "dense_8 (Dense)              (None, 1)                 5         \n",
            "=================================================================\n",
            "Total params: 49\n",
            "Trainable params: 49\n",
            "Non-trainable params: 0\n",
            "_________________________________________________________________\n"
          ],
          "name": "stdout"
        }
      ]
    },
    {
      "cell_type": "markdown",
      "metadata": {
        "id": "oH4iz_LixDqL"
      },
      "source": [
        "**04 Train the model**"
      ]
    },
    {
      "cell_type": "code",
      "metadata": {
        "colab": {
          "base_uri": "https://localhost:8080/"
        },
        "id": "rrOqeregxUxe",
        "outputId": "1f6bedb1-5201-4089-f8b5-96b8bdff9b7c"
      },
      "source": [
        "model.fit(train_data, labels, batch_size=32, epochs=10)"
      ],
      "execution_count": null,
      "outputs": [
        {
          "output_type": "stream",
          "text": [
            "Epoch 1/10\n",
            "32/32 [==============================] - 1s 1ms/step - loss: 0.7249 - accuracy: 0.4936\n",
            "Epoch 2/10\n",
            "32/32 [==============================] - 0s 1ms/step - loss: 0.7035 - accuracy: 0.5083\n",
            "Epoch 3/10\n",
            "32/32 [==============================] - 0s 1ms/step - loss: 0.6973 - accuracy: 0.5003\n",
            "Epoch 4/10\n",
            "32/32 [==============================] - 0s 1ms/step - loss: 0.6929 - accuracy: 0.5276\n",
            "Epoch 5/10\n",
            "32/32 [==============================] - 0s 1ms/step - loss: 0.6965 - accuracy: 0.5070\n",
            "Epoch 6/10\n",
            "32/32 [==============================] - 0s 1ms/step - loss: 0.6958 - accuracy: 0.5074\n",
            "Epoch 7/10\n",
            "32/32 [==============================] - 0s 1ms/step - loss: 0.6957 - accuracy: 0.5250\n",
            "Epoch 8/10\n",
            "32/32 [==============================] - 0s 1ms/step - loss: 0.6931 - accuracy: 0.5193\n",
            "Epoch 9/10\n",
            "32/32 [==============================] - 0s 1ms/step - loss: 0.6890 - accuracy: 0.5357\n",
            "Epoch 10/10\n",
            "32/32 [==============================] - 0s 1ms/step - loss: 0.6963 - accuracy: 0.4885\n"
          ],
          "name": "stdout"
        },
        {
          "output_type": "execute_result",
          "data": {
            "text/plain": [
              "<keras.callbacks.History at 0x7f6028ad0150>"
            ]
          },
          "metadata": {
            "tags": []
          },
          "execution_count": 25
        }
      ]
    },
    {
      "cell_type": "code",
      "metadata": {
        "id": "xVTjayZEzTep"
      },
      "source": [
        "predictions = model.predict(test_data)"
      ],
      "execution_count": null,
      "outputs": []
    },
    {
      "cell_type": "code",
      "metadata": {
        "colab": {
          "base_uri": "https://localhost:8080/"
        },
        "id": "qeFwV3Ka0LPp",
        "outputId": "cfa7392f-37cb-4270-fa75-468e86423c47"
      },
      "source": [
        "predictions.shape"
      ],
      "execution_count": null,
      "outputs": [
        {
          "output_type": "execute_result",
          "data": {
            "text/plain": [
              "(500, 1)"
            ]
          },
          "metadata": {
            "tags": []
          },
          "execution_count": 27
        }
      ]
    }
  ]
}